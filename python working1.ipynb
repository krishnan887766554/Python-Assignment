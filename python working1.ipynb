{
 "cells": [
  {
   "cell_type": "code",
   "execution_count": 13,
   "metadata": {},
   "outputs": [
    {
     "name": "stdout",
     "output_type": "stream",
     "text": [
      "Hello harish\n",
      "Hello kayal\n"
     ]
    }
   ],
   "source": [
    "def greet(name):\n",
    "    print('Hello',name)\n",
    "greet('harish')\n",
    "greet('kayal')"
   ]
  },
  {
   "cell_type": "code",
   "execution_count": 20,
   "metadata": {},
   "outputs": [
    {
     "name": "stdout",
     "output_type": "stream",
     "text": [
      "362880\n"
     ]
    }
   ],
   "source": [
    "n=int(input('Enter a number:'))\n",
    "fact=1\n",
    "for i in range(1,n+1):\n",
    "    fact=fact*i\n",
    "print(fact)"
   ]
  },
  {
   "cell_type": "code",
   "execution_count": 28,
   "metadata": {},
   "outputs": [],
   "source": [
    "def factorial(n):\n",
    "    fact=1\n",
    "    for i in range(1,n+1):\n",
    "        fact*i\n",
    "        return fact\n",
    "    n=int(input())\n",
    "    factorial(n)"
   ]
  },
  {
   "cell_type": "code",
   "execution_count": 38,
   "metadata": {},
   "outputs": [
    {
     "name": "stdout",
     "output_type": "stream",
     "text": [
      "factroial is 362880\n"
     ]
    }
   ],
   "source": [
    "x=int(input())\n",
    "if x<0:\n",
    "    print(\"error it is negative\")\n",
    "elif x==0 or x==1:\n",
    "    print(\"output is 1\")\n",
    "else:\n",
    "    fact=1\n",
    "    for x in range(1,n+1):\n",
    "        fact*=x\n",
    "    print('factroial is',fact)\n"
   ]
  },
  {
   "cell_type": "code",
   "execution_count": 50,
   "metadata": {},
   "outputs": [
    {
     "data": {
      "text/plain": [
       "'Error'"
      ]
     },
     "execution_count": 50,
     "metadata": {},
     "output_type": "execute_result"
    }
   ],
   "source": [
    "def factorial(n):\n",
    "    if n<0:\n",
    "        return 'Error'\n",
    "    elif n==0 or n==1:\n",
    "        return 1\n",
    "    else:\n",
    "        fact=1\n",
    "        for i in range(1,n+1):\n",
    "            fact*=i\n",
    "        return fact \n",
    "factorial(-50065065060605605)"
   ]
  },
  {
   "cell_type": "code",
   "execution_count": null,
   "metadata": {},
   "outputs": [],
   "source": [
    "write a functio with calculating the sum of the numbers 3 to 70 range\n",
    "2. calculate the sum of the odd numbers from 3 to 70\n"
   ]
  }
 ],
 "metadata": {
  "kernelspec": {
   "display_name": "Python 3",
   "language": "python",
   "name": "python3"
  },
  "language_info": {
   "codemirror_mode": {
    "name": "ipython",
    "version": 3
   },
   "file_extension": ".py",
   "mimetype": "text/x-python",
   "name": "python",
   "nbconvert_exporter": "python",
   "pygments_lexer": "ipython3",
   "version": "3.12.6"
  }
 },
 "nbformat": 4,
 "nbformat_minor": 2
}
